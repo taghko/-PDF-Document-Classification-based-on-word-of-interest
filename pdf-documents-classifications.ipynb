{
 "cells": [
  {
   "cell_type": "code",
   "execution_count": 1,
   "id": "b66c638e",
   "metadata": {
    "_cell_guid": "b1076dfc-b9ad-4769-8c92-a6c4dae69d19",
    "_uuid": "8f2839f25d086af736a60e9eeb907d3b93b6e0e5",
    "execution": {
     "iopub.execute_input": "2022-11-25T18:24:26.643876Z",
     "iopub.status.busy": "2022-11-25T18:24:26.643079Z",
     "iopub.status.idle": "2022-11-25T18:24:26.652744Z",
     "shell.execute_reply": "2022-11-25T18:24:26.651871Z"
    },
    "papermill": {
     "duration": 0.029294,
     "end_time": "2022-11-25T18:24:26.655088",
     "exception": false,
     "start_time": "2022-11-25T18:24:26.625794",
     "status": "completed"
    },
    "tags": []
   },
   "outputs": [],
   "source": [
    "import numpy as np \n",
    "import pandas as pd \n",
    "\n",
    "import os\n",
    "import re"
   ]
  },
  {
   "cell_type": "code",
   "execution_count": 2,
   "id": "85979ad7",
   "metadata": {
    "execution": {
     "iopub.execute_input": "2022-11-25T18:24:26.686159Z",
     "iopub.status.busy": "2022-11-25T18:24:26.685730Z",
     "iopub.status.idle": "2022-11-25T18:24:41.528266Z",
     "shell.execute_reply": "2022-11-25T18:24:41.526870Z"
    },
    "papermill": {
     "duration": 14.861927,
     "end_time": "2022-11-25T18:24:41.530826",
     "exception": false,
     "start_time": "2022-11-25T18:24:26.668899",
     "status": "completed"
    },
    "tags": []
   },
   "outputs": [
    {
     "name": "stdout",
     "output_type": "stream",
     "text": [
      "Collecting pdfplumber\r\n",
      "  Downloading pdfplumber-0.7.6-py3-none-any.whl (40 kB)\r\n",
      "\u001b[2K     \u001b[90m━━━━━━━━━━━━━━━━━━━━━━━━━━━━━━━━━━━━━━━\u001b[0m \u001b[32m40.6/40.6 kB\u001b[0m \u001b[31m770.6 kB/s\u001b[0m eta \u001b[36m0:00:00\u001b[0m\r\n",
      "\u001b[?25hCollecting pdfminer.six==20221105\r\n",
      "  Downloading pdfminer.six-20221105-py3-none-any.whl (5.6 MB)\r\n",
      "\u001b[2K     \u001b[90m━━━━━━━━━━━━━━━━━━━━━━━━━━━━━━━━━━━━━━━━\u001b[0m \u001b[32m5.6/5.6 MB\u001b[0m \u001b[31m9.7 MB/s\u001b[0m eta \u001b[36m0:00:00\u001b[0m\r\n",
      "\u001b[?25hRequirement already satisfied: Pillow>=9.1 in /opt/conda/lib/python3.7/site-packages (from pdfplumber) (9.1.1)\r\n",
      "Requirement already satisfied: Wand>=0.6.10 in /opt/conda/lib/python3.7/site-packages (from pdfplumber) (0.6.10)\r\n",
      "Requirement already satisfied: typing-extensions in /opt/conda/lib/python3.7/site-packages (from pdfminer.six==20221105->pdfplumber) (4.4.0)\r\n",
      "Requirement already satisfied: charset-normalizer>=2.0.0 in /opt/conda/lib/python3.7/site-packages (from pdfminer.six==20221105->pdfplumber) (2.1.0)\r\n",
      "Requirement already satisfied: cryptography>=36.0.0 in /opt/conda/lib/python3.7/site-packages (from pdfminer.six==20221105->pdfplumber) (37.0.2)\r\n",
      "Requirement already satisfied: cffi>=1.12 in /opt/conda/lib/python3.7/site-packages (from cryptography>=36.0.0->pdfminer.six==20221105->pdfplumber) (1.15.0)\r\n",
      "Requirement already satisfied: pycparser in /opt/conda/lib/python3.7/site-packages (from cffi>=1.12->cryptography>=36.0.0->pdfminer.six==20221105->pdfplumber) (2.21)\r\n",
      "Installing collected packages: pdfminer.six, pdfplumber\r\n",
      "Successfully installed pdfminer.six-20221105 pdfplumber-0.7.6\r\n",
      "\u001b[33mWARNING: Running pip as the 'root' user can result in broken permissions and conflicting behaviour with the system package manager. It is recommended to use a virtual environment instead: https://pip.pypa.io/warnings/venv\u001b[0m\u001b[33m\r\n",
      "\u001b[0m"
     ]
    }
   ],
   "source": [
    "!pip install pdfplumber"
   ]
  },
  {
   "cell_type": "code",
   "execution_count": 3,
   "id": "dbec00f8",
   "metadata": {
    "execution": {
     "iopub.execute_input": "2022-11-25T18:24:41.564033Z",
     "iopub.status.busy": "2022-11-25T18:24:41.563148Z",
     "iopub.status.idle": "2022-11-25T18:24:41.611270Z",
     "shell.execute_reply": "2022-11-25T18:24:41.610077Z"
    },
    "papermill": {
     "duration": 0.067359,
     "end_time": "2022-11-25T18:24:41.613838",
     "exception": false,
     "start_time": "2022-11-25T18:24:41.546479",
     "status": "completed"
    },
    "tags": []
   },
   "outputs": [],
   "source": [
    "import pdfplumber"
   ]
  },
  {
   "cell_type": "code",
   "execution_count": 4,
   "id": "7ba3e5c8",
   "metadata": {
    "execution": {
     "iopub.execute_input": "2022-11-25T18:24:41.645920Z",
     "iopub.status.busy": "2022-11-25T18:24:41.645518Z",
     "iopub.status.idle": "2022-11-25T18:24:41.649692Z",
     "shell.execute_reply": "2022-11-25T18:24:41.648847Z"
    },
    "papermill": {
     "duration": 0.022697,
     "end_time": "2022-11-25T18:24:41.651718",
     "exception": false,
     "start_time": "2022-11-25T18:24:41.629021",
     "status": "completed"
    },
    "tags": []
   },
   "outputs": [],
   "source": [
    "pdf_path = r\"../input/pdf-files-for-document-search-and-classification/Prod chem book/Chapters/3- Scale Control.pdf\""
   ]
  },
  {
   "cell_type": "markdown",
   "id": "e7624030",
   "metadata": {
    "papermill": {
     "duration": 0.014911,
     "end_time": "2022-11-25T18:24:41.681967",
     "exception": false,
     "start_time": "2022-11-25T18:24:41.667056",
     "status": "completed"
    },
    "tags": []
   },
   "source": [
    "**Function to extract text from single pdf file**"
   ]
  },
  {
   "cell_type": "code",
   "execution_count": 5,
   "id": "9afe0695",
   "metadata": {
    "execution": {
     "iopub.execute_input": "2022-11-25T18:24:41.714268Z",
     "iopub.status.busy": "2022-11-25T18:24:41.713235Z",
     "iopub.status.idle": "2022-11-25T18:24:41.720317Z",
     "shell.execute_reply": "2022-11-25T18:24:41.719205Z"
    },
    "papermill": {
     "duration": 0.02609,
     "end_time": "2022-11-25T18:24:41.722983",
     "exception": false,
     "start_time": "2022-11-25T18:24:41.696893",
     "status": "completed"
    },
    "tags": []
   },
   "outputs": [],
   "source": [
    "def whole_pdf(pdf_path):\n",
    "    all_lines = []\n",
    "    whole_pdf = ''\n",
    "    with pdfplumber.open(pdf_path) as pdf:\n",
    "        no_pages = len(pdf.pages)\n",
    "        for page_no in range(no_pages):\n",
    "            this_page = pdf.pages[page_no]\n",
    "            page_text = this_page.extract_text()\n",
    "            if page_text:\n",
    "                whole_pdf += page_text.lower() + '\\n'\n",
    "    return whole_pdf"
   ]
  },
  {
   "cell_type": "code",
   "execution_count": 6,
   "id": "e339bc8a",
   "metadata": {
    "execution": {
     "iopub.execute_input": "2022-11-25T18:24:41.754815Z",
     "iopub.status.busy": "2022-11-25T18:24:41.754392Z",
     "iopub.status.idle": "2022-11-25T18:24:41.770398Z",
     "shell.execute_reply": "2022-11-25T18:24:41.769208Z"
    },
    "papermill": {
     "duration": 0.034678,
     "end_time": "2022-11-25T18:24:41.772842",
     "exception": false,
     "start_time": "2022-11-25T18:24:41.738164",
     "status": "completed"
    },
    "tags": []
   },
   "outputs": [
    {
     "name": "stdout",
     "output_type": "stream",
     "text": [
      "0\n",
      "6\n",
      "20\n"
     ]
    }
   ],
   "source": [
    "import os\n",
    "\n",
    "def checkPath(list_path):\n",
    "    for path in list_path:\n",
    "        for (path, dirs, files) in os.walk(path):\n",
    "            print(len(files))\n",
    "\n",
    "checkPath([\"../input/pdf-files-for-document-search-and-classification/Prod chem book\"])"
   ]
  },
  {
   "cell_type": "markdown",
   "id": "6dcddeb9",
   "metadata": {
    "papermill": {
     "duration": 0.014532,
     "end_time": "2022-11-25T18:24:41.802318",
     "exception": false,
     "start_time": "2022-11-25T18:24:41.787786",
     "status": "completed"
    },
    "tags": []
   },
   "source": [
    "**Python script for searching word of interest in a folder with multiple pdf files**"
   ]
  },
  {
   "cell_type": "code",
   "execution_count": 7,
   "id": "1af1283b",
   "metadata": {
    "execution": {
     "iopub.execute_input": "2022-11-25T18:24:41.833835Z",
     "iopub.status.busy": "2022-11-25T18:24:41.833459Z",
     "iopub.status.idle": "2022-11-25T18:24:41.838116Z",
     "shell.execute_reply": "2022-11-25T18:24:41.836935Z"
    },
    "papermill": {
     "duration": 0.023279,
     "end_time": "2022-11-25T18:24:41.840414",
     "exception": false,
     "start_time": "2022-11-25T18:24:41.817135",
     "status": "completed"
    },
    "tags": []
   },
   "outputs": [],
   "source": [
    "path = r\"../input/pdf-files-for-document-search-and-classification/Prod chem book/Chapters\""
   ]
  },
  {
   "cell_type": "code",
   "execution_count": 8,
   "id": "2a0b2cfe",
   "metadata": {
    "execution": {
     "iopub.execute_input": "2022-11-25T18:24:41.872127Z",
     "iopub.status.busy": "2022-11-25T18:24:41.871461Z",
     "iopub.status.idle": "2022-11-25T18:24:48.660110Z",
     "shell.execute_reply": "2022-11-25T18:24:48.659025Z"
    },
    "papermill": {
     "duration": 6.807351,
     "end_time": "2022-11-25T18:24:48.662689",
     "exception": false,
     "start_time": "2022-11-25T18:24:41.855338",
     "status": "completed"
    },
    "tags": []
   },
   "outputs": [
    {
     "name": "stdout",
     "output_type": "stream",
     "text": [
      "Search finished, if document not displayed file not found\n"
     ]
    }
   ],
   "source": [
    "filelist=os.listdir(path)\n",
    "keywords = \"ADP, RPP, AFE, QPF, EIA, PSA, JOA, EIA, PSC, RSP, Tender\".replace(\", \", \"|\")\n",
    "for file in filelist:\n",
    "    if file.endswith('.pdf') or file.endswith('.PDF'): #different extensions on the raw dat\n",
    "        with pdfplumber.open(path+'/'+ file) as pdf:\n",
    "            for page in pdf.pages:\n",
    "                text = page.extract_text()\n",
    "                # print(text)\n",
    "                result = re.search(keywords, text)\n",
    "                if result:\n",
    "                    print(file)\n",
    "                else:\n",
    "                    break\n",
    "print(\"Search finished, if document not displayed file not found\")"
   ]
  },
  {
   "cell_type": "markdown",
   "id": "1e74d924",
   "metadata": {
    "papermill": {
     "duration": 0.014911,
     "end_time": "2022-11-25T18:24:48.692601",
     "exception": false,
     "start_time": "2022-11-25T18:24:48.677690",
     "status": "completed"
    },
    "tags": []
   },
   "source": [
    "**Python sciprt for finding words of interest in pdf files in folder path with multiple file formats**"
   ]
  },
  {
   "cell_type": "code",
   "execution_count": 9,
   "id": "6d4ea022",
   "metadata": {
    "execution": {
     "iopub.execute_input": "2022-11-25T18:24:48.724240Z",
     "iopub.status.busy": "2022-11-25T18:24:48.723825Z",
     "iopub.status.idle": "2022-11-25T18:24:48.728591Z",
     "shell.execute_reply": "2022-11-25T18:24:48.727366Z"
    },
    "papermill": {
     "duration": 0.023288,
     "end_time": "2022-11-25T18:24:48.730782",
     "exception": false,
     "start_time": "2022-11-25T18:24:48.707494",
     "status": "completed"
    },
    "tags": []
   },
   "outputs": [],
   "source": [
    "path1 = r\"../input/pdf-files-for-document-search-and-classification/Prod chem book\""
   ]
  },
  {
   "cell_type": "code",
   "execution_count": 10,
   "id": "fb4eda07",
   "metadata": {
    "execution": {
     "iopub.execute_input": "2022-11-25T18:24:48.762268Z",
     "iopub.status.busy": "2022-11-25T18:24:48.761848Z",
     "iopub.status.idle": "2022-11-25T18:25:26.658132Z",
     "shell.execute_reply": "2022-11-25T18:25:26.656636Z"
    },
    "papermill": {
     "duration": 37.915575,
     "end_time": "2022-11-25T18:25:26.661147",
     "exception": false,
     "start_time": "2022-11-25T18:24:48.745572",
     "status": "completed"
    },
    "tags": []
   },
   "outputs": [
    {
     "name": "stdout",
     "output_type": "stream",
     "text": [
      "4-Preface to the First Edition.pdf\n",
      "3-Preface to the Second Edition.pdf\n",
      "5-Author.pdf\n",
      "12- Foam Control.pdf\n",
      "12- Foam Control.pdf\n",
      "14- Biocides.pdf\n",
      "14- Biocides.pdf\n",
      "14- Biocides.pdf\n",
      "5- Acid Simulation.pdf\n",
      "19 - Foamers for Gas Well Deliquification.pdf\n",
      "19 - Foamers for Gas Well Deliquification.pdf\n",
      "2- Water and Gas Control.pdf\n",
      "7- Control of Naphthenate and Other Carboxylate Fouling.pdf\n",
      "7- Control of Naphthenate and Other Carboxylate Fouling.pdf\n",
      "7- Control of Naphthenate and Other Carboxylate Fouling.pdf\n",
      "7- Control of Naphthenate and Other Carboxylate Fouling.pdf\n",
      "7- Control of Naphthenate and Other Carboxylate Fouling.pdf\n",
      "6- Sand Control.pdf\n",
      "6- Sand Control.pdf\n",
      "Appendix 1- OSPAR Environmental Regulations for Oilfiel Chemicals.pdf\n",
      "Appendix 1- OSPAR Environmental Regulations for Oilfiel Chemicals.pdf\n",
      "8- Corrosion Control During Production.pdf\n",
      "8- Corrosion Control During Production.pdf\n",
      "8- Corrosion Control During Production.pdf\n",
      "8- Corrosion Control During Production.pdf\n",
      "8- Corrosion Control During Production.pdf\n",
      "8- Corrosion Control During Production.pdf\n",
      "8- Corrosion Control During Production.pdf\n",
      "8- Corrosion Control During Production.pdf\n",
      "8- Corrosion Control During Production.pdf\n",
      "8- Corrosion Control During Production.pdf\n",
      "8- Corrosion Control During Production.pdf\n",
      "8- Corrosion Control During Production.pdf\n",
      "8- Corrosion Control During Production.pdf\n",
      "15- Hydrogen Sulphide Scavengers.pdf\n",
      "10- Wax (Paraffin Wax) Control.pdf\n",
      "10- Wax (Paraffin Wax) Control.pdf\n",
      "10- Wax (Paraffin Wax) Control.pdf\n",
      "10- Wax (Paraffin Wax) Control.pdf\n",
      "10- Wax (Paraffin Wax) Control.pdf\n",
      "10- Wax (Paraffin Wax) Control.pdf\n",
      "10- Wax (Paraffin Wax) Control.pdf\n",
      "10- Wax (Paraffin Wax) Control.pdf\n",
      "10- Wax (Paraffin Wax) Control.pdf\n",
      "10- Wax (Paraffin Wax) Control.pdf\n",
      "10- Wax (Paraffin Wax) Control.pdf\n",
      "10- Wax (Paraffin Wax) Control.pdf\n",
      "10- Wax (Paraffin Wax) Control.pdf\n",
      "10- Wax (Paraffin Wax) Control.pdf\n",
      "10- Wax (Paraffin Wax) Control.pdf\n",
      "10- Wax (Paraffin Wax) Control.pdf\n",
      "10- Wax (Paraffin Wax) Control.pdf\n",
      "10- Wax (Paraffin Wax) Control.pdf\n",
      "10- Wax (Paraffin Wax) Control.pdf\n",
      "10- Wax (Paraffin Wax) Control.pdf\n",
      "9- Gas Hydrate Control.pdf\n",
      "9- Gas Hydrate Control.pdf\n",
      "9- Gas Hydrate Control.pdf\n",
      "9- Gas Hydrate Control.pdf\n",
      "9- Gas Hydrate Control.pdf\n",
      "9- Gas Hydrate Control.pdf\n",
      "9- Gas Hydrate Control.pdf\n",
      "9- Gas Hydrate Control.pdf\n",
      "9- Gas Hydrate Control.pdf\n",
      "9- Gas Hydrate Control.pdf\n",
      "13- Flocculants.pdf\n",
      "13- Flocculants.pdf\n",
      "13- Flocculants.pdf\n",
      "13- Flocculants.pdf\n",
      "13- Flocculants.pdf\n",
      "13- Flocculants.pdf\n",
      "18- Chemicals for Hydrotesting.pdf\n",
      "18- Chemicals for Hydrotesting.pdf\n",
      "18- Chemicals for Hydrotesting.pdf\n",
      "18- Chemicals for Hydrotesting.pdf\n",
      "18- Chemicals for Hydrotesting.pdf\n",
      "11- Demulsifiers.pdf\n",
      "11- Demulsifiers.pdf\n",
      "11- Demulsifiers.pdf\n",
      "11- Demulsifiers.pdf\n",
      "11- Demulsifiers.pdf\n",
      "11- Demulsifiers.pdf\n",
      "3- Scale Control.pdf\n",
      "3- Scale Control.pdf\n",
      "3- Scale Control.pdf\n",
      "3- Scale Control.pdf\n",
      "3- Scale Control.pdf\n",
      "3- Scale Control.pdf\n",
      "3- Scale Control.pdf\n",
      "3- Scale Control.pdf\n",
      "3- Scale Control.pdf\n",
      "16- Oxygen Scavengers.pdf\n",
      "16- Oxygen Scavengers.pdf\n",
      "16- Oxygen Scavengers.pdf\n",
      "16- Oxygen Scavengers.pdf\n",
      "16- Oxygen Scavengers.pdf\n",
      "1- Introduction and Environmental Issues.pdf\n",
      "1- Introduction and Environmental Issues.pdf\n",
      "1- Introduction and Environmental Issues.pdf\n",
      "1- Introduction and Environmental Issues.pdf\n",
      "1- Introduction and Environmental Issues.pdf\n",
      "1- Introduction and Environmental Issues.pdf\n",
      "1- Introduction and Environmental Issues.pdf\n",
      "1- Introduction and Environmental Issues.pdf\n",
      "1- Introduction and Environmental Issues.pdf\n",
      "17- Drag-Reducing Agent.pdf\n",
      "17- Drag-Reducing Agent.pdf\n",
      "4- Asphaltene Control.pdf\n",
      "Search finished, if document not displayed file not found\n"
     ]
    }
   ],
   "source": [
    "keywords = \"Scale, wax, hydrate, emulsion, corrosion\".replace(\", \", \"|\")\n",
    "for root, dirs, files in os.walk(path1):\n",
    "    for file in files:\n",
    "        if file.endswith('.pdf') or file.endswith('.PDF'): #different extensions on the raw dat\n",
    "            with pdfplumber.open(root+'/'+ file) as pdf:\n",
    "                for page in pdf.pages:\n",
    "                    text = page.extract_text()\n",
    "                    # print(text)\n",
    "                    result = re.search(keywords, text)\n",
    "                    if result:\n",
    "                        print(file)\n",
    "                    else:\n",
    "                        break\n",
    "print(\"Search finished, if document not displayed file not found\")"
   ]
  },
  {
   "cell_type": "markdown",
   "id": "9389c3ae",
   "metadata": {
    "papermill": {
     "duration": 0.020928,
     "end_time": "2022-11-25T18:25:26.703190",
     "exception": false,
     "start_time": "2022-11-25T18:25:26.682262",
     "status": "completed"
    },
    "tags": []
   },
   "source": [
    "**Text extraction and pre-processing to build dataframe**"
   ]
  },
  {
   "cell_type": "code",
   "execution_count": 11,
   "id": "ef76999f",
   "metadata": {
    "execution": {
     "iopub.execute_input": "2022-11-25T18:25:26.747418Z",
     "iopub.status.busy": "2022-11-25T18:25:26.746751Z",
     "iopub.status.idle": "2022-11-25T18:25:28.857109Z",
     "shell.execute_reply": "2022-11-25T18:25:28.855934Z"
    },
    "papermill": {
     "duration": 2.135745,
     "end_time": "2022-11-25T18:25:28.859928",
     "exception": false,
     "start_time": "2022-11-25T18:25:26.724183",
     "status": "completed"
    },
    "tags": []
   },
   "outputs": [
    {
     "name": "stderr",
     "output_type": "stream",
     "text": [
      "[nltk_data] Downloading package stopwords to /usr/share/nltk_data...\n",
      "[nltk_data]   Package stopwords is already up-to-date!\n",
      "[nltk_data] Downloading package wordnet to /usr/share/nltk_data...\n",
      "[nltk_data]   Package wordnet is already up-to-date!\n",
      "[nltk_data] Downloading package omw-1.4 to /usr/share/nltk_data...\n"
     ]
    },
    {
     "data": {
      "text/plain": [
       "True"
      ]
     },
     "execution_count": 11,
     "metadata": {},
     "output_type": "execute_result"
    }
   ],
   "source": [
    "from subprocess import Popen, PIPE\n",
    "from pdfminer.pdfinterp import PDFResourceManager, PDFPageInterpreter\n",
    "from pdfminer.converter import TextConverter\n",
    "from pdfminer.layout import LAParams\n",
    "from pdfminer.pdfpage import PDFPage\n",
    "import io\n",
    "from io import StringIO\n",
    "import os\n",
    "import glob\n",
    "import sys\n",
    "import string\n",
    "from nltk.corpus import stopwords\n",
    "import matplotlib.pyplot as plt\n",
    "from nltk.stem import WordNetLemmatizer\n",
    "import warnings\n",
    "warnings.filterwarnings('ignore')\n",
    "\n",
    "import nltk\n",
    "nltk.download('stopwords')\n",
    "nltk.download('wordnet')\n",
    "nltk.download('omw-1.4')"
   ]
  },
  {
   "cell_type": "code",
   "execution_count": 12,
   "id": "4025337d",
   "metadata": {
    "execution": {
     "iopub.execute_input": "2022-11-25T18:25:28.904355Z",
     "iopub.status.busy": "2022-11-25T18:25:28.903946Z",
     "iopub.status.idle": "2022-11-25T18:25:28.913276Z",
     "shell.execute_reply": "2022-11-25T18:25:28.912245Z"
    },
    "papermill": {
     "duration": 0.034084,
     "end_time": "2022-11-25T18:25:28.915413",
     "exception": false,
     "start_time": "2022-11-25T18:25:28.881329",
     "status": "completed"
    },
    "tags": []
   },
   "outputs": [],
   "source": [
    "import pandas as pd\n",
    "def convert_pdf_to_txt(path1):\n",
    "    #alltexts = []\n",
    "    filelist=os.listdir(path1)\n",
    "    documentcollection=[]\n",
    "    for files in filelist:\n",
    "        files=os.path.join(path1,files)\n",
    "        documentcollection.append(files)\n",
    "    for ifiles in documentcollection:\n",
    "        if ifiles.endswith('.pdf') or ifiles.endswith('.PDF'): #different extensions on the raw data\n",
    "            with open(ifiles, 'rb') as fh:\n",
    "                for page in PDFPage.get_pages(fh, \n",
    "                                              caching=True,\n",
    "                                              check_extractable=True):\n",
    "                    resource_manager = PDFResourceManager()\n",
    "                    fake_file_handle = io.StringIO()\n",
    "                    converter = TextConverter(resource_manager, fake_file_handle)\n",
    "                    page_interpreter = PDFPageInterpreter(resource_manager, converter)\n",
    "                    page_interpreter.process_page(page)\n",
    " \n",
    "                    text = fake_file_handle.getvalue() # extraction of the text data\n",
    "                    yield text\n",
    " \n",
    "                    # closing open handles\n",
    "                    converter.close()\n",
    "                    fake_file_handle.close()\n",
    "        \n",
    "    #return alltexts"
   ]
  },
  {
   "cell_type": "code",
   "execution_count": 13,
   "id": "b945032a",
   "metadata": {
    "execution": {
     "iopub.execute_input": "2022-11-25T18:25:28.960008Z",
     "iopub.status.busy": "2022-11-25T18:25:28.959269Z",
     "iopub.status.idle": "2022-11-25T18:26:39.148241Z",
     "shell.execute_reply": "2022-11-25T18:26:39.146930Z"
    },
    "papermill": {
     "duration": 70.214343,
     "end_time": "2022-11-25T18:26:39.151096",
     "exception": false,
     "start_time": "2022-11-25T18:25:28.936753",
     "status": "completed"
    },
    "tags": []
   },
   "outputs": [],
   "source": [
    "import os\n",
    "textcontents = convert_pdf_to_txt(path)\n",
    "df = pd.DataFrame(textcontents, columns = ['Text_Data']) \n",
    "df['Category'] = 'ProdChem' # Adding the taxes label"
   ]
  },
  {
   "cell_type": "code",
   "execution_count": 14,
   "id": "81fe0ddf",
   "metadata": {
    "execution": {
     "iopub.execute_input": "2022-11-25T18:26:39.195320Z",
     "iopub.status.busy": "2022-11-25T18:26:39.194929Z",
     "iopub.status.idle": "2022-11-25T18:26:41.914972Z",
     "shell.execute_reply": "2022-11-25T18:26:41.913977Z"
    },
    "papermill": {
     "duration": 2.745012,
     "end_time": "2022-11-25T18:26:41.917649",
     "exception": false,
     "start_time": "2022-11-25T18:26:39.172637",
     "status": "completed"
    },
    "tags": []
   },
   "outputs": [],
   "source": [
    "# Pre-processing the extracted textual data\n",
    "df['Text_Data'] = df['Text_Data'].apply(lambda x: \" \".join(x.lower() for x in x.split())) # lower case conversion\n",
    "df['Text_Data'] = df['Text_Data'].str.replace('[^\\w\\s]','') # getting rid of special characters\n",
    "df['Text_Data'] = df['Text_Data'].str.replace('\\d+', '') # removing numeric values from between the words\n",
    "df['Text_Data'] = df['Text_Data'].apply(lambda x: x.translate(string.digits)) # removing numerical numbers\n",
    "stop = stopwords.words('english')\n",
    "df['Text_Data'] = df['Text_Data'].apply(lambda x: \" \".join(x for x in x.split() if x not in stop)) #removing stop words\n",
    "stemmer = WordNetLemmatizer()\n",
    "df['Text_Data'] = [stemmer.lemmatize(word) for word in df['Text_Data']] #converting words to their dictionary form\n",
    "df['Text_Data'] = df['Text_Data'].str.replace('shall', '')"
   ]
  },
  {
   "cell_type": "code",
   "execution_count": 15,
   "id": "19f9df74",
   "metadata": {
    "execution": {
     "iopub.execute_input": "2022-11-25T18:26:41.963916Z",
     "iopub.status.busy": "2022-11-25T18:26:41.963498Z",
     "iopub.status.idle": "2022-11-25T18:26:42.273175Z",
     "shell.execute_reply": "2022-11-25T18:26:42.272006Z"
    },
    "papermill": {
     "duration": 0.33545,
     "end_time": "2022-11-25T18:26:42.275672",
     "exception": false,
     "start_time": "2022-11-25T18:26:41.940222",
     "status": "completed"
    },
    "tags": []
   },
   "outputs": [
    {
     "data": {
      "image/png": "[encoded data removed]",
      "text/plain": [
       "<Figure size 432x288 with 1 Axes>"
      ]
     },
     "metadata": {
      "needs_background": "light"
     },
     "output_type": "display_data"
    }
   ],
   "source": [
    "# Plotting 5 most occuring words in the 'Taxes' documents\n",
    "\n",
    "freq = pd.Series(' '.join(df['Text_Data']).split()).value_counts()[:5]\n",
    "freq.plot(kind='barh');\n",
    "plt.show()"
   ]
  },
  {
   "cell_type": "code",
   "execution_count": 16,
   "id": "a0d53c9c",
   "metadata": {
    "execution": {
     "iopub.execute_input": "2022-11-25T18:26:42.321585Z",
     "iopub.status.busy": "2022-11-25T18:26:42.320387Z",
     "iopub.status.idle": "2022-11-25T18:26:42.337498Z",
     "shell.execute_reply": "2022-11-25T18:26:42.336186Z"
    },
    "papermill": {
     "duration": 0.042413,
     "end_time": "2022-11-25T18:26:42.340000",
     "exception": false,
     "start_time": "2022-11-25T18:26:42.297587",
     "status": "completed"
    },
    "tags": []
   },
   "outputs": [
    {
     "data": {
      "text/html": [
       "<div>\n",
       "<style scoped>\n",
       "    .dataframe tbody tr th:only-of-type {\n",
       "        vertical-align: middle;\n",
       "    }\n",
       "\n",
       "    .dataframe tbody tr th {\n",
       "        vertical-align: top;\n",
       "    }\n",
       "\n",
       "    .dataframe thead th {\n",
       "        text-align: right;\n",
       "    }\n",
       "</style>\n",
       "<table border=\"1\" class=\"dataframe\">\n",
       "  <thead>\n",
       "    <tr style=\"text-align: right;\">\n",
       "      <th></th>\n",
       "      <th>Text_Data</th>\n",
       "      <th>Category</th>\n",
       "      <th>Identifiers</th>\n",
       "    </tr>\n",
       "  </thead>\n",
       "  <tbody>\n",
       "    <tr>\n",
       "      <th>0</th>\n",
       "      <td>foam control introductionfoam gas dispersion l...</td>\n",
       "      <td>ProdChem</td>\n",
       "      <td>gas, patent, oil, spe</td>\n",
       "    </tr>\n",
       "    <tr>\n",
       "      <th>1</th>\n",
       "      <td>production chemicals oil gas industrythese mix...</td>\n",
       "      <td>ProdChem</td>\n",
       "      <td>gas, patent, oil, spe</td>\n",
       "    </tr>\n",
       "    <tr>\n",
       "      <th>2</th>\n",
       "      <td>foam controlantifoams fluorosilicones expensiv...</td>\n",
       "      <td>ProdChem</td>\n",
       "      <td>gas, patent, oil, spe</td>\n",
       "    </tr>\n",
       "    <tr>\n",
       "      <th>3</th>\n",
       "      <td>production chemicals oil gas industryeopo copo...</td>\n",
       "      <td>ProdChem</td>\n",
       "      <td>gas, patent, oil, spe</td>\n",
       "    </tr>\n",
       "    <tr>\n",
       "      <th>4</th>\n",
       "      <td>foam control p g pape silicones unique chemica...</td>\n",
       "      <td>ProdChem</td>\n",
       "      <td>gas, patent, oil, spe</td>\n",
       "    </tr>\n",
       "  </tbody>\n",
       "</table>\n",
       "</div>"
      ],
      "text/plain": [
       "                                           Text_Data  Category  \\\n",
       "0  foam control introductionfoam gas dispersion l...  ProdChem   \n",
       "1  production chemicals oil gas industrythese mix...  ProdChem   \n",
       "2  foam controlantifoams fluorosilicones expensiv...  ProdChem   \n",
       "3  production chemicals oil gas industryeopo copo...  ProdChem   \n",
       "4  foam control p g pape silicones unique chemica...  ProdChem   \n",
       "\n",
       "             Identifiers  \n",
       "0  gas, patent, oil, spe  \n",
       "1  gas, patent, oil, spe  \n",
       "2  gas, patent, oil, spe  \n",
       "3  gas, patent, oil, spe  \n",
       "4  gas, patent, oil, spe  "
      ]
     },
     "execution_count": 16,
     "metadata": {},
     "output_type": "execute_result"
    }
   ],
   "source": [
    "df['Identifiers'] = 'gas, patent, oil, spe'\n",
    "df[:5]"
   ]
  },
  {
   "cell_type": "code",
   "execution_count": 17,
   "id": "b0ff1638",
   "metadata": {
    "execution": {
     "iopub.execute_input": "2022-11-25T18:26:42.385286Z",
     "iopub.status.busy": "2022-11-25T18:26:42.384871Z",
     "iopub.status.idle": "2022-11-25T18:26:42.389826Z",
     "shell.execute_reply": "2022-11-25T18:26:42.388701Z"
    },
    "papermill": {
     "duration": 0.030696,
     "end_time": "2022-11-25T18:26:42.392189",
     "exception": false,
     "start_time": "2022-11-25T18:26:42.361493",
     "status": "completed"
    },
    "tags": []
   },
   "outputs": [],
   "source": [
    "path2 = \"../input/pdf-files-for-document-search-and-classification/Economics\""
   ]
  },
  {
   "cell_type": "code",
   "execution_count": 18,
   "id": "c34a12e6",
   "metadata": {
    "execution": {
     "iopub.execute_input": "2022-11-25T18:26:42.439039Z",
     "iopub.status.busy": "2022-11-25T18:26:42.438370Z",
     "iopub.status.idle": "2022-11-25T18:26:42.447501Z",
     "shell.execute_reply": "2022-11-25T18:26:42.446244Z"
    },
    "papermill": {
     "duration": 0.035415,
     "end_time": "2022-11-25T18:26:42.450095",
     "exception": false,
     "start_time": "2022-11-25T18:26:42.414680",
     "status": "completed"
    },
    "tags": []
   },
   "outputs": [],
   "source": [
    "def convert_pdf_to_txt1(path2):\n",
    "    #alltexts = []\n",
    "    filelist=os.listdir(path2)\n",
    "    documentcollection=[]\n",
    "    for files in filelist:\n",
    "        files=os.path.join(path2,files)\n",
    "        documentcollection.append(files)\n",
    "    for ifiles in documentcollection:\n",
    "        if ifiles.endswith('.pdf') or ifiles.endswith('.PDF'): #different extensions on the raw data\n",
    "            with open(ifiles, 'rb') as fh:\n",
    "                for page in PDFPage.get_pages(fh, \n",
    "                                              caching=True,\n",
    "                                              check_extractable=True):\n",
    "                    resource_manager = PDFResourceManager()\n",
    "                    fake_file_handle = io.StringIO()\n",
    "                    converter = TextConverter(resource_manager, fake_file_handle)\n",
    "                    page_interpreter = PDFPageInterpreter(resource_manager, converter)\n",
    "                    page_interpreter.process_page(page)\n",
    " \n",
    "                    text = fake_file_handle.getvalue() # extraction of the text data\n",
    "                    yield text\n",
    " \n",
    "                    # closing open handles\n",
    "                    converter.close()\n",
    "                    fake_file_handle.close()\n",
    "        \n",
    "    #return alltexts"
   ]
  },
  {
   "cell_type": "code",
   "execution_count": 19,
   "id": "45d43a30",
   "metadata": {
    "execution": {
     "iopub.execute_input": "2022-11-25T18:26:42.496489Z",
     "iopub.status.busy": "2022-11-25T18:26:42.496078Z",
     "iopub.status.idle": "2022-11-25T18:26:44.547793Z",
     "shell.execute_reply": "2022-11-25T18:26:44.546744Z"
    },
    "papermill": {
     "duration": 2.078347,
     "end_time": "2022-11-25T18:26:44.550602",
     "exception": false,
     "start_time": "2022-11-25T18:26:42.472255",
     "status": "completed"
    },
    "tags": []
   },
   "outputs": [],
   "source": [
    "textcontents1 = convert_pdf_to_txt1(path2)\n",
    "df1 = pd.DataFrame(textcontents1, columns = ['Text_Data']) \n",
    "df1['Category'] = 'Economics' # Adding the taxes label"
   ]
  },
  {
   "cell_type": "code",
   "execution_count": 20,
   "id": "7b80aab8",
   "metadata": {
    "execution": {
     "iopub.execute_input": "2022-11-25T18:26:44.595931Z",
     "iopub.status.busy": "2022-11-25T18:26:44.595506Z",
     "iopub.status.idle": "2022-11-25T18:26:44.636212Z",
     "shell.execute_reply": "2022-11-25T18:26:44.635142Z"
    },
    "papermill": {
     "duration": 0.066538,
     "end_time": "2022-11-25T18:26:44.638915",
     "exception": false,
     "start_time": "2022-11-25T18:26:44.572377",
     "status": "completed"
    },
    "tags": []
   },
   "outputs": [],
   "source": [
    "df1['Text_Data'] = df1['Text_Data'].apply(lambda x: \" \".join(x.lower() for x in x.split())) # lower case conversion\n",
    "df1['Text_Data'] = df1['Text_Data'].str.replace('[^\\w\\s]','') # getting rid of special characters\n",
    "df1['Text_Data'] = df1['Text_Data'].str.replace('\\d+', '') # removing numeric values from between the words\n",
    "df1['Text_Data'] = df1['Text_Data'].apply(lambda x: x.translate(string.digits)) # removing numerical numbers\n",
    "stop = stopwords.words('english')\n",
    "df1['Text_Data'] = df1['Text_Data'].apply(lambda x: \" \".join(x for x in x.split() if x not in stop)) #removing stop words\n",
    "stemmer = WordNetLemmatizer()\n",
    "df1['Text_Data'] = [stemmer.lemmatize(word) for word in df1['Text_Data']] #converting words to their dictionary form\n",
    "df1['Text_Data'] = df1['Text_Data'].str.replace('shall', '')"
   ]
  },
  {
   "cell_type": "code",
   "execution_count": 21,
   "id": "f5af2d10",
   "metadata": {
    "execution": {
     "iopub.execute_input": "2022-11-25T18:26:44.684749Z",
     "iopub.status.busy": "2022-11-25T18:26:44.683787Z",
     "iopub.status.idle": "2022-11-25T18:26:44.844350Z",
     "shell.execute_reply": "2022-11-25T18:26:44.843099Z"
    },
    "papermill": {
     "duration": 0.186114,
     "end_time": "2022-11-25T18:26:44.846836",
     "exception": false,
     "start_time": "2022-11-25T18:26:44.660722",
     "status": "completed"
    },
    "tags": []
   },
   "outputs": [
    {
     "data": {
      "image/png": "[encoded data removed]",
      "text/plain": [
       "<Figure size 432x288 with 1 Axes>"
      ]
     },
     "metadata": {
      "needs_background": "light"
     },
     "output_type": "display_data"
    }
   ],
   "source": [
    "freq = pd.Series(' '.join(df1['Text_Data']).split()).value_counts()[:5]\n",
    "freq.plot(kind='barh');\n",
    "plt.show()"
   ]
  },
  {
   "cell_type": "code",
   "execution_count": 22,
   "id": "cea32128",
   "metadata": {
    "execution": {
     "iopub.execute_input": "2022-11-25T18:26:44.892397Z",
     "iopub.status.busy": "2022-11-25T18:26:44.891617Z",
     "iopub.status.idle": "2022-11-25T18:26:44.905073Z",
     "shell.execute_reply": "2022-11-25T18:26:44.903940Z"
    },
    "papermill": {
     "duration": 0.038277,
     "end_time": "2022-11-25T18:26:44.907242",
     "exception": false,
     "start_time": "2022-11-25T18:26:44.868965",
     "status": "completed"
    },
    "tags": []
   },
   "outputs": [
    {
     "data": {
      "text/html": [
       "<div>\n",
       "<style scoped>\n",
       "    .dataframe tbody tr th:only-of-type {\n",
       "        vertical-align: middle;\n",
       "    }\n",
       "\n",
       "    .dataframe tbody tr th {\n",
       "        vertical-align: top;\n",
       "    }\n",
       "\n",
       "    .dataframe thead th {\n",
       "        text-align: right;\n",
       "    }\n",
       "</style>\n",
       "<table border=\"1\" class=\"dataframe\">\n",
       "  <thead>\n",
       "    <tr style=\"text-align: right;\">\n",
       "      <th></th>\n",
       "      <th>Text_Data</th>\n",
       "      <th>Category</th>\n",
       "      <th>Identifiers</th>\n",
       "    </tr>\n",
       "  </thead>\n",
       "  <tbody>\n",
       "    <tr>\n",
       "      <th>0</th>\n",
       "      <td>case study shale gas united states although sh...</td>\n",
       "      <td>Economics</td>\n",
       "      <td>gas, shale, europe, costs</td>\n",
       "    </tr>\n",
       "    <tr>\n",
       "      <th>1</th>\n",
       "      <td>barnett shale located west texas currently lea...</td>\n",
       "      <td>Economics</td>\n",
       "      <td>gas, shale, europe, costs</td>\n",
       "    </tr>\n",
       "    <tr>\n",
       "      <th>2</th>\n",
       "      <td>cidcidcidcidcidcidcidcidcidcidcidcidcidcidcidc...</td>\n",
       "      <td>Economics</td>\n",
       "      <td>gas, shale, europe, costs</td>\n",
       "    </tr>\n",
       "    <tr>\n",
       "      <th>3</th>\n",
       "      <td>bill pyke european shale gas background notes ...</td>\n",
       "      <td>Economics</td>\n",
       "      <td>gas, shale, europe, costs</td>\n",
       "    </tr>\n",
       "    <tr>\n",
       "      <th>4</th>\n",
       "      <td>bill pyke europes indigenous conventional gas ...</td>\n",
       "      <td>Economics</td>\n",
       "      <td>gas, shale, europe, costs</td>\n",
       "    </tr>\n",
       "  </tbody>\n",
       "</table>\n",
       "</div>"
      ],
      "text/plain": [
       "                                           Text_Data   Category  \\\n",
       "0  case study shale gas united states although sh...  Economics   \n",
       "1  barnett shale located west texas currently lea...  Economics   \n",
       "2  cidcidcidcidcidcidcidcidcidcidcidcidcidcidcidc...  Economics   \n",
       "3  bill pyke european shale gas background notes ...  Economics   \n",
       "4  bill pyke europes indigenous conventional gas ...  Economics   \n",
       "\n",
       "                 Identifiers  \n",
       "0  gas, shale, europe, costs  \n",
       "1  gas, shale, europe, costs  \n",
       "2  gas, shale, europe, costs  \n",
       "3  gas, shale, europe, costs  \n",
       "4  gas, shale, europe, costs  "
      ]
     },
     "execution_count": 22,
     "metadata": {},
     "output_type": "execute_result"
    }
   ],
   "source": [
    "df1['Identifiers'] = 'gas, shale, europe, costs'\n",
    "df1[:5]"
   ]
  },
  {
   "cell_type": "code",
   "execution_count": 23,
   "id": "134be45a",
   "metadata": {
    "execution": {
     "iopub.execute_input": "2022-11-25T18:26:44.952898Z",
     "iopub.status.busy": "2022-11-25T18:26:44.952044Z",
     "iopub.status.idle": "2022-11-25T18:26:44.957504Z",
     "shell.execute_reply": "2022-11-25T18:26:44.956302Z"
    },
    "papermill": {
     "duration": 0.030535,
     "end_time": "2022-11-25T18:26:44.959662",
     "exception": false,
     "start_time": "2022-11-25T18:26:44.929127",
     "status": "completed"
    },
    "tags": []
   },
   "outputs": [],
   "source": [
    "env = \"../input/pdf-files-for-document-search-and-classification/Enviromental\""
   ]
  },
  {
   "cell_type": "code",
   "execution_count": 24,
   "id": "70b17b01",
   "metadata": {
    "execution": {
     "iopub.execute_input": "2022-11-25T18:26:45.004595Z",
     "iopub.status.busy": "2022-11-25T18:26:45.004173Z",
     "iopub.status.idle": "2022-11-25T18:26:45.013607Z",
     "shell.execute_reply": "2022-11-25T18:26:45.012478Z"
    },
    "papermill": {
     "duration": 0.034272,
     "end_time": "2022-11-25T18:26:45.015659",
     "exception": false,
     "start_time": "2022-11-25T18:26:44.981387",
     "status": "completed"
    },
    "tags": []
   },
   "outputs": [],
   "source": [
    "def convert_pdf_to_txt2(env):\n",
    "    #alltexts = []\n",
    "    filelist=os.listdir(env)\n",
    "    documentcollection=[]\n",
    "    for files in filelist:\n",
    "        files=os.path.join(env,files)\n",
    "        documentcollection.append(files)\n",
    "    for ifiles in documentcollection:\n",
    "        if ifiles.endswith('.pdf') or ifiles.endswith('.PDF'): #different extensions on the raw data\n",
    "            with open(ifiles, 'rb') as fh:\n",
    "                for page in PDFPage.get_pages(fh, \n",
    "                                              caching=True,\n",
    "                                              check_extractable=True):\n",
    "                    resource_manager = PDFResourceManager()\n",
    "                    fake_file_handle = io.StringIO()\n",
    "                    converter = TextConverter(resource_manager, fake_file_handle)\n",
    "                    page_interpreter = PDFPageInterpreter(resource_manager, converter)\n",
    "                    page_interpreter.process_page(page)\n",
    " \n",
    "                    text = fake_file_handle.getvalue() # extraction of the text data\n",
    "                    yield text\n",
    " \n",
    "                    # closing open handles\n",
    "                    converter.close()\n",
    "                    fake_file_handle.close()\n",
    "        \n",
    "    #return alltexts"
   ]
  },
  {
   "cell_type": "code",
   "execution_count": 25,
   "id": "5feea8c5",
   "metadata": {
    "execution": {
     "iopub.execute_input": "2022-11-25T18:26:45.061288Z",
     "iopub.status.busy": "2022-11-25T18:26:45.060825Z",
     "iopub.status.idle": "2022-11-25T18:26:45.551800Z",
     "shell.execute_reply": "2022-11-25T18:26:45.550528Z"
    },
    "papermill": {
     "duration": 0.517169,
     "end_time": "2022-11-25T18:26:45.554696",
     "exception": false,
     "start_time": "2022-11-25T18:26:45.037527",
     "status": "completed"
    },
    "tags": []
   },
   "outputs": [],
   "source": [
    "textcontents2 = convert_pdf_to_txt2(env)\n",
    "df2 = pd.DataFrame(textcontents2, columns = ['Text_Data']) \n",
    "df2['Category'] = 'Enviromental' # Adding the taxes label"
   ]
  },
  {
   "cell_type": "code",
   "execution_count": 26,
   "id": "4f2d7449",
   "metadata": {
    "execution": {
     "iopub.execute_input": "2022-11-25T18:26:45.600165Z",
     "iopub.status.busy": "2022-11-25T18:26:45.599736Z",
     "iopub.status.idle": "2022-11-25T18:26:45.619874Z",
     "shell.execute_reply": "2022-11-25T18:26:45.618729Z"
    },
    "papermill": {
     "duration": 0.046099,
     "end_time": "2022-11-25T18:26:45.622927",
     "exception": false,
     "start_time": "2022-11-25T18:26:45.576828",
     "status": "completed"
    },
    "tags": []
   },
   "outputs": [],
   "source": [
    "df2['Text_Data'] = df2['Text_Data'].apply(lambda x: \" \".join(x.lower() for x in x.split())) # lower case conversion\n",
    "df2['Text_Data'] = df2['Text_Data'].str.replace('[^\\w\\s]','') # getting rid of special characters\n",
    "df2['Text_Data'] = df2['Text_Data'].str.replace('\\d+', '') # removing numeric values from between the words\n",
    "df2['Text_Data'] = df2['Text_Data'].apply(lambda x: x.translate(string.digits)) # removing numerical numbers\n",
    "stop = stopwords.words('english')\n",
    "df2['Text_Data'] = df2['Text_Data'].apply(lambda x: \" \".join(x for x in x.split() if x not in stop)) #removing stop words\n",
    "stemmer = WordNetLemmatizer()\n",
    "df2['Text_Data'] = [stemmer.lemmatize(word) for word in df2['Text_Data']] #converting words to their dictionary form\n",
    "df2['Text_Data'] = df2['Text_Data'].str.replace('shall', '')"
   ]
  },
  {
   "cell_type": "code",
   "execution_count": 27,
   "id": "8fa263fa",
   "metadata": {
    "execution": {
     "iopub.execute_input": "2022-11-25T18:26:45.668882Z",
     "iopub.status.busy": "2022-11-25T18:26:45.668470Z",
     "iopub.status.idle": "2022-11-25T18:26:45.870583Z",
     "shell.execute_reply": "2022-11-25T18:26:45.869670Z"
    },
    "papermill": {
     "duration": 0.22736,
     "end_time": "2022-11-25T18:26:45.872773",
     "exception": false,
     "start_time": "2022-11-25T18:26:45.645413",
     "status": "completed"
    },
    "tags": []
   },
   "outputs": [
    {
     "data": {
      "image/png": "[encoded data removed]",
      "text/plain": [
       "<Figure size 432x288 with 1 Axes>"
      ]
     },
     "metadata": {
      "needs_background": "light"
     },
     "output_type": "display_data"
    }
   ],
   "source": [
    "freq = pd.Series(' '.join(df2['Text_Data']).split()).value_counts()[:10]\n",
    "freq.plot(kind='barh');\n",
    "plt.show()"
   ]
  },
  {
   "cell_type": "code",
   "execution_count": 28,
   "id": "4e095a82",
   "metadata": {
    "execution": {
     "iopub.execute_input": "2022-11-25T18:26:45.920499Z",
     "iopub.status.busy": "2022-11-25T18:26:45.920087Z",
     "iopub.status.idle": "2022-11-25T18:26:45.932110Z",
     "shell.execute_reply": "2022-11-25T18:26:45.931047Z"
    },
    "papermill": {
     "duration": 0.039547,
     "end_time": "2022-11-25T18:26:45.934371",
     "exception": false,
     "start_time": "2022-11-25T18:26:45.894824",
     "status": "completed"
    },
    "tags": []
   },
   "outputs": [
    {
     "data": {
      "text/html": [
       "<div>\n",
       "<style scoped>\n",
       "    .dataframe tbody tr th:only-of-type {\n",
       "        vertical-align: middle;\n",
       "    }\n",
       "\n",
       "    .dataframe tbody tr th {\n",
       "        vertical-align: top;\n",
       "    }\n",
       "\n",
       "    .dataframe thead th {\n",
       "        text-align: right;\n",
       "    }\n",
       "</style>\n",
       "<table border=\"1\" class=\"dataframe\">\n",
       "  <thead>\n",
       "    <tr style=\"text-align: right;\">\n",
       "      <th></th>\n",
       "      <th>Text_Data</th>\n",
       "      <th>Category</th>\n",
       "      <th>Identifiers</th>\n",
       "    </tr>\n",
       "  </thead>\n",
       "  <tbody>\n",
       "    <tr>\n",
       "      <th>0</th>\n",
       "      <td>environmental impact nonconventional gas envir...</td>\n",
       "      <td>Enviromental</td>\n",
       "      <td>water, flowback, drilling, environmental, frac...</td>\n",
       "    </tr>\n",
       "    <tr>\n",
       "      <th>1</th>\n",
       "      <td>buffer zones drill sites surface water prevent...</td>\n",
       "      <td>Enviromental</td>\n",
       "      <td>water, flowback, drilling, environmental, frac...</td>\n",
       "    </tr>\n",
       "    <tr>\n",
       "      <th>2</th>\n",
       "      <td>source us epa draft study potential impacts hy...</td>\n",
       "      <td>Enviromental</td>\n",
       "      <td>water, flowback, drilling, environmental, frac...</td>\n",
       "    </tr>\n",
       "    <tr>\n",
       "      <th>3</th>\n",
       "      <td>shale gas environmental dimensionbill pykeaber...</td>\n",
       "      <td>Enviromental</td>\n",
       "      <td>water, flowback, drilling, environmental, frac...</td>\n",
       "    </tr>\n",
       "    <tr>\n",
       "      <th>4</th>\n",
       "      <td>outlinechallenges shale gas environmental foot...</td>\n",
       "      <td>Enviromental</td>\n",
       "      <td>water, flowback, drilling, environmental, frac...</td>\n",
       "    </tr>\n",
       "  </tbody>\n",
       "</table>\n",
       "</div>"
      ],
      "text/plain": [
       "                                           Text_Data      Category  \\\n",
       "0  environmental impact nonconventional gas envir...  Enviromental   \n",
       "1  buffer zones drill sites surface water prevent...  Enviromental   \n",
       "2  source us epa draft study potential impacts hy...  Enviromental   \n",
       "3  shale gas environmental dimensionbill pykeaber...  Enviromental   \n",
       "4  outlinechallenges shale gas environmental foot...  Enviromental   \n",
       "\n",
       "                                         Identifiers  \n",
       "0  water, flowback, drilling, environmental, frac...  \n",
       "1  water, flowback, drilling, environmental, frac...  \n",
       "2  water, flowback, drilling, environmental, frac...  \n",
       "3  water, flowback, drilling, environmental, frac...  \n",
       "4  water, flowback, drilling, environmental, frac...  "
      ]
     },
     "execution_count": 28,
     "metadata": {},
     "output_type": "execute_result"
    }
   ],
   "source": [
    "df2['Identifiers'] = 'water, flowback, drilling, environmental, fracturing'\n",
    "df2[:5]"
   ]
  },
  {
   "cell_type": "code",
   "execution_count": 29,
   "id": "910e1c7a",
   "metadata": {
    "execution": {
     "iopub.execute_input": "2022-11-25T18:26:45.980794Z",
     "iopub.status.busy": "2022-11-25T18:26:45.980380Z",
     "iopub.status.idle": "2022-11-25T18:26:45.985169Z",
     "shell.execute_reply": "2022-11-25T18:26:45.984078Z"
    },
    "papermill": {
     "duration": 0.030665,
     "end_time": "2022-11-25T18:26:45.987383",
     "exception": false,
     "start_time": "2022-11-25T18:26:45.956718",
     "status": "completed"
    },
    "tags": []
   },
   "outputs": [],
   "source": [
    "shalegas = \"../input/pdf-files-for-document-search-and-classification/Shale gas\""
   ]
  },
  {
   "cell_type": "code",
   "execution_count": 30,
   "id": "3167926c",
   "metadata": {
    "execution": {
     "iopub.execute_input": "2022-11-25T18:26:46.033867Z",
     "iopub.status.busy": "2022-11-25T18:26:46.033421Z",
     "iopub.status.idle": "2022-11-25T18:26:46.041967Z",
     "shell.execute_reply": "2022-11-25T18:26:46.040787Z"
    },
    "papermill": {
     "duration": 0.0346,
     "end_time": "2022-11-25T18:26:46.044203",
     "exception": false,
     "start_time": "2022-11-25T18:26:46.009603",
     "status": "completed"
    },
    "tags": []
   },
   "outputs": [],
   "source": [
    "def convert_pdf_to_txt3(shalegas):\n",
    "    #alltexts = []\n",
    "    filelist=os.listdir(shalegas)\n",
    "    documentcollection=[]\n",
    "    for files in filelist:\n",
    "        files=os.path.join(shalegas,files)\n",
    "        documentcollection.append(files)\n",
    "    for ifiles in documentcollection:\n",
    "        if ifiles.endswith('.pdf') or ifiles.endswith('.PDF'): #different extensions on the raw data\n",
    "            with open(ifiles, 'rb') as fh:\n",
    "                for page in PDFPage.get_pages(fh, \n",
    "                                              caching=True,\n",
    "                                              check_extractable=True):\n",
    "                    resource_manager = PDFResourceManager()\n",
    "                    fake_file_handle = io.StringIO()\n",
    "                    converter = TextConverter(resource_manager, fake_file_handle)\n",
    "                    page_interpreter = PDFPageInterpreter(resource_manager, converter)\n",
    "                    page_interpreter.process_page(page)\n",
    " \n",
    "                    text = fake_file_handle.getvalue() # extraction of the text data\n",
    "                    yield text\n",
    " \n",
    "                    # closing open handles\n",
    "                    converter.close()\n",
    "                    fake_file_handle.close()\n",
    "        \n",
    "    #return alltexts"
   ]
  },
  {
   "cell_type": "code",
   "execution_count": 31,
   "id": "cf19b075",
   "metadata": {
    "execution": {
     "iopub.execute_input": "2022-11-25T18:26:46.090637Z",
     "iopub.status.busy": "2022-11-25T18:26:46.090208Z",
     "iopub.status.idle": "2022-11-25T18:27:06.709089Z",
     "shell.execute_reply": "2022-11-25T18:27:06.708103Z"
    },
    "papermill": {
     "duration": 20.645158,
     "end_time": "2022-11-25T18:27:06.711691",
     "exception": false,
     "start_time": "2022-11-25T18:26:46.066533",
     "status": "completed"
    },
    "tags": []
   },
   "outputs": [],
   "source": [
    "textcontents3 = convert_pdf_to_txt3(shalegas)\n",
    "df3 = pd.DataFrame(textcontents3, columns = ['Text_Data']) \n",
    "df3['Category'] = 'ShaleGas' # Adding the taxes label"
   ]
  },
  {
   "cell_type": "code",
   "execution_count": 32,
   "id": "a4d5c0d5",
   "metadata": {
    "execution": {
     "iopub.execute_input": "2022-11-25T18:27:06.758908Z",
     "iopub.status.busy": "2022-11-25T18:27:06.758213Z",
     "iopub.status.idle": "2022-11-25T18:27:06.841456Z",
     "shell.execute_reply": "2022-11-25T18:27:06.840376Z"
    },
    "papermill": {
     "duration": 0.109732,
     "end_time": "2022-11-25T18:27:06.844076",
     "exception": false,
     "start_time": "2022-11-25T18:27:06.734344",
     "status": "completed"
    },
    "tags": []
   },
   "outputs": [],
   "source": [
    "df3['Text_Data'] = df3['Text_Data'].apply(lambda x: \" \".join(x.lower() for x in x.split())) # lower case conversion\n",
    "df3['Text_Data'] = df3['Text_Data'].str.replace('[^\\w\\s]','') # getting rid of special characters\n",
    "df3['Text_Data'] = df3['Text_Data'].str.replace('\\d+', '') # removing numeric values from between the words\n",
    "df3['Text_Data'] = df3['Text_Data'].apply(lambda x: x.translate(string.digits)) # removing numerical numbers\n",
    "stop = stopwords.words('english')\n",
    "df3['Text_Data'] = df3['Text_Data'].apply(lambda x: \" \".join(x for x in x.split() if x not in stop)) #removing stop words\n",
    "stemmer = WordNetLemmatizer()\n",
    "df3['Text_Data'] = [stemmer.lemmatize(word) for word in df3['Text_Data']] #converting words to their dictionary form\n",
    "df3['Text_Data'] = df3['Text_Data'].str.replace('shall', '')"
   ]
  },
  {
   "cell_type": "code",
   "execution_count": 33,
   "id": "573af717",
   "metadata": {
    "execution": {
     "iopub.execute_input": "2022-11-25T18:27:06.890841Z",
     "iopub.status.busy": "2022-11-25T18:27:06.890166Z",
     "iopub.status.idle": "2022-11-25T18:27:07.088957Z",
     "shell.execute_reply": "2022-11-25T18:27:07.087715Z"
    },
    "papermill": {
     "duration": 0.22515,
     "end_time": "2022-11-25T18:27:07.091607",
     "exception": false,
     "start_time": "2022-11-25T18:27:06.866457",
     "status": "completed"
    },
    "tags": []
   },
   "outputs": [
    {
     "data": {
      "image/png": "[encoded data removed]",
      "text/plain": [
       "<Figure size 432x288 with 1 Axes>"
      ]
     },
     "metadata": {
      "needs_background": "light"
     },
     "output_type": "display_data"
    }
   ],
   "source": [
    "freq = pd.Series(' '.join(df3['Text_Data']).split()).value_counts()[:10]\n",
    "freq.plot(kind='barh');\n",
    "plt.show()"
   ]
  },
  {
   "cell_type": "code",
   "execution_count": 34,
   "id": "b4a3db48",
   "metadata": {
    "execution": {
     "iopub.execute_input": "2022-11-25T18:27:07.138915Z",
     "iopub.status.busy": "2022-11-25T18:27:07.138456Z",
     "iopub.status.idle": "2022-11-25T18:27:07.151851Z",
     "shell.execute_reply": "2022-11-25T18:27:07.150571Z"
    },
    "papermill": {
     "duration": 0.039824,
     "end_time": "2022-11-25T18:27:07.154325",
     "exception": false,
     "start_time": "2022-11-25T18:27:07.114501",
     "status": "completed"
    },
    "tags": []
   },
   "outputs": [
    {
     "data": {
      "text/html": [
       "<div>\n",
       "<style scoped>\n",
       "    .dataframe tbody tr th:only-of-type {\n",
       "        vertical-align: middle;\n",
       "    }\n",
       "\n",
       "    .dataframe tbody tr th {\n",
       "        vertical-align: top;\n",
       "    }\n",
       "\n",
       "    .dataframe thead th {\n",
       "        text-align: right;\n",
       "    }\n",
       "</style>\n",
       "<table border=\"1\" class=\"dataframe\">\n",
       "  <thead>\n",
       "    <tr style=\"text-align: right;\">\n",
       "      <th></th>\n",
       "      <th>Text_Data</th>\n",
       "      <th>Category</th>\n",
       "      <th>Identifiers</th>\n",
       "    </tr>\n",
       "  </thead>\n",
       "  <tbody>\n",
       "    <tr>\n",
       "      <th>0</th>\n",
       "      <td>shale gas key references modern shale gas deve...</td>\n",
       "      <td>ShaleGas</td>\n",
       "      <td>global, natural, energy, well</td>\n",
       "    </tr>\n",
       "    <tr>\n",
       "      <th>1</th>\n",
       "      <td>category project buyer seller purchase price d...</td>\n",
       "      <td>ShaleGas</td>\n",
       "      <td>global, natural, energy, well</td>\n",
       "    </tr>\n",
       "    <tr>\n",
       "      <th>2</th>\n",
       "      <td>shale gas key references modern shale gas deve...</td>\n",
       "      <td>ShaleGas</td>\n",
       "      <td>global, natural, energy, well</td>\n",
       "    </tr>\n",
       "    <tr>\n",
       "      <th>3</th>\n",
       "      <td>shale gas case study united statesbill pykeabe...</td>\n",
       "      <td>ShaleGas</td>\n",
       "      <td>global, natural, energy, well</td>\n",
       "    </tr>\n",
       "    <tr>\n",
       "      <th>4</th>\n",
       "      <td>us shale gas playssources wood mckenzie deutsc...</td>\n",
       "      <td>ShaleGas</td>\n",
       "      <td>global, natural, energy, well</td>\n",
       "    </tr>\n",
       "  </tbody>\n",
       "</table>\n",
       "</div>"
      ],
      "text/plain": [
       "                                           Text_Data  Category  \\\n",
       "0  shale gas key references modern shale gas deve...  ShaleGas   \n",
       "1  category project buyer seller purchase price d...  ShaleGas   \n",
       "2  shale gas key references modern shale gas deve...  ShaleGas   \n",
       "3  shale gas case study united statesbill pykeabe...  ShaleGas   \n",
       "4  us shale gas playssources wood mckenzie deutsc...  ShaleGas   \n",
       "\n",
       "                     Identifiers  \n",
       "0  global, natural, energy, well  \n",
       "1  global, natural, energy, well  \n",
       "2  global, natural, energy, well  \n",
       "3  global, natural, energy, well  \n",
       "4  global, natural, energy, well  "
      ]
     },
     "execution_count": 34,
     "metadata": {},
     "output_type": "execute_result"
    }
   ],
   "source": [
    "df3['Identifiers'] = 'global, natural, energy, well'\n",
    "df3[:5]"
   ]
  },
  {
   "cell_type": "code",
   "execution_count": 35,
   "id": "175495d1",
   "metadata": {
    "execution": {
     "iopub.execute_input": "2022-11-25T18:27:07.201501Z",
     "iopub.status.busy": "2022-11-25T18:27:07.201047Z",
     "iopub.status.idle": "2022-11-25T18:27:07.217207Z",
     "shell.execute_reply": "2022-11-25T18:27:07.216230Z"
    },
    "papermill": {
     "duration": 0.042227,
     "end_time": "2022-11-25T18:27:07.219304",
     "exception": false,
     "start_time": "2022-11-25T18:27:07.177077",
     "status": "completed"
    },
    "tags": []
   },
   "outputs": [
    {
     "data": {
      "text/html": [
       "<div>\n",
       "<style scoped>\n",
       "    .dataframe tbody tr th:only-of-type {\n",
       "        vertical-align: middle;\n",
       "    }\n",
       "\n",
       "    .dataframe tbody tr th {\n",
       "        vertical-align: top;\n",
       "    }\n",
       "\n",
       "    .dataframe thead th {\n",
       "        text-align: right;\n",
       "    }\n",
       "</style>\n",
       "<table border=\"1\" class=\"dataframe\">\n",
       "  <thead>\n",
       "    <tr style=\"text-align: right;\">\n",
       "      <th></th>\n",
       "      <th>Identifiers</th>\n",
       "      <th>Text_Data</th>\n",
       "      <th>Category</th>\n",
       "    </tr>\n",
       "  </thead>\n",
       "  <tbody>\n",
       "    <tr>\n",
       "      <th>0</th>\n",
       "      <td>gas, patent, oil, spe</td>\n",
       "      <td>foam control introductionfoam gas dispersion l...</td>\n",
       "      <td>ProdChem</td>\n",
       "    </tr>\n",
       "    <tr>\n",
       "      <th>1</th>\n",
       "      <td>gas, patent, oil, spe</td>\n",
       "      <td>production chemicals oil gas industrythese mix...</td>\n",
       "      <td>ProdChem</td>\n",
       "    </tr>\n",
       "    <tr>\n",
       "      <th>2</th>\n",
       "      <td>gas, patent, oil, spe</td>\n",
       "      <td>foam controlantifoams fluorosilicones expensiv...</td>\n",
       "      <td>ProdChem</td>\n",
       "    </tr>\n",
       "    <tr>\n",
       "      <th>3</th>\n",
       "      <td>gas, patent, oil, spe</td>\n",
       "      <td>production chemicals oil gas industryeopo copo...</td>\n",
       "      <td>ProdChem</td>\n",
       "    </tr>\n",
       "    <tr>\n",
       "      <th>4</th>\n",
       "      <td>gas, patent, oil, spe</td>\n",
       "      <td>foam control p g pape silicones unique chemica...</td>\n",
       "      <td>ProdChem</td>\n",
       "    </tr>\n",
       "  </tbody>\n",
       "</table>\n",
       "</div>"
      ],
      "text/plain": [
       "             Identifiers                                          Text_Data  \\\n",
       "0  gas, patent, oil, spe  foam control introductionfoam gas dispersion l...   \n",
       "1  gas, patent, oil, spe  production chemicals oil gas industrythese mix...   \n",
       "2  gas, patent, oil, spe  foam controlantifoams fluorosilicones expensiv...   \n",
       "3  gas, patent, oil, spe  production chemicals oil gas industryeopo copo...   \n",
       "4  gas, patent, oil, spe  foam control p g pape silicones unique chemica...   \n",
       "\n",
       "   Category  \n",
       "0  ProdChem  \n",
       "1  ProdChem  \n",
       "2  ProdChem  \n",
       "3  ProdChem  \n",
       "4  ProdChem  "
      ]
     },
     "execution_count": 35,
     "metadata": {},
     "output_type": "execute_result"
    }
   ],
   "source": [
    "frames = [df, df1, df2, df3]\n",
    "finalframe = pd.concat(frames, sort=False)\n",
    "finalframe = finalframe[['Identifiers', 'Text_Data', 'Category']]\n",
    "finalframe = finalframe.reset_index(drop=True)\n",
    "finalframe[:5]"
   ]
  },
  {
   "cell_type": "markdown",
   "id": "186ea800",
   "metadata": {
    "papermill": {
     "duration": 0.022587,
     "end_time": "2022-11-25T18:27:07.265034",
     "exception": false,
     "start_time": "2022-11-25T18:27:07.242447",
     "status": "completed"
    },
    "tags": []
   },
   "source": [
    "**Counting the data points of each category**"
   ]
  },
  {
   "cell_type": "markdown",
   "id": "874f1575",
   "metadata": {
    "papermill": {
     "duration": 0.022306,
     "end_time": "2022-11-25T18:27:07.310683",
     "exception": false,
     "start_time": "2022-11-25T18:27:07.288377",
     "status": "completed"
    },
    "tags": []
   },
   "source": [
    "We can see that we have a lot of data for ProdChem and very less for Enviromental category. This suggests that the data is imbalanced and needs data augmentation. Under sampling was not an option because of the already small dataset which leads to less performance of the model overall. So over sampling is one of the options that needs to be taken into consideration."
   ]
  },
  {
   "cell_type": "code",
   "execution_count": 36,
   "id": "777aa0d0",
   "metadata": {
    "execution": {
     "iopub.execute_input": "2022-11-25T18:27:07.358044Z",
     "iopub.status.busy": "2022-11-25T18:27:07.357655Z",
     "iopub.status.idle": "2022-11-25T18:27:07.546073Z",
     "shell.execute_reply": "2022-11-25T18:27:07.545223Z"
    },
    "papermill": {
     "duration": 0.214774,
     "end_time": "2022-11-25T18:27:07.548288",
     "exception": false,
     "start_time": "2022-11-25T18:27:07.333514",
     "status": "completed"
    },
    "tags": []
   },
   "outputs": [
    {
     "data": {
      "image/png": "[encoded data removed]",
      "text/plain": [
       "<Figure size 720x288 with 1 Axes>"
      ]
     },
     "metadata": {
      "needs_background": "light"
     },
     "output_type": "display_data"
    }
   ],
   "source": [
    "import matplotlib.pyplot as plt\n",
    "my_tags = ['ProdChem','Economics','ShaleGas','Enviromental']\n",
    "plt.figure(figsize=(10,4))\n",
    "finalframe.Category.value_counts().plot(kind='bar');\n",
    "plt.show()"
   ]
  },
  {
   "cell_type": "markdown",
   "id": "9d225132",
   "metadata": {
    "papermill": {
     "duration": 0.022818,
     "end_time": "2022-11-25T18:27:07.594454",
     "exception": false,
     "start_time": "2022-11-25T18:27:07.571636",
     "status": "completed"
    },
    "tags": []
   },
   "source": [
    "**Building different models for classification of the documents**"
   ]
  },
  {
   "cell_type": "markdown",
   "id": "0260a3a2",
   "metadata": {
    "papermill": {
     "duration": 0.022851,
     "end_time": "2022-11-25T18:27:07.640380",
     "exception": false,
     "start_time": "2022-11-25T18:27:07.617529",
     "status": "completed"
    },
    "tags": []
   },
   "source": [
    "Training data after using TF-IDF. Term Frequency - Inverse document frequency takes care of the assigning vectors to the word based on the frequency of them occuring in each document."
   ]
  },
  {
   "cell_type": "code",
   "execution_count": 37,
   "id": "6c9c6cb4",
   "metadata": {
    "execution": {
     "iopub.execute_input": "2022-11-25T18:27:07.689987Z",
     "iopub.status.busy": "2022-11-25T18:27:07.688766Z",
     "iopub.status.idle": "2022-11-25T18:27:07.913236Z",
     "shell.execute_reply": "2022-11-25T18:27:07.911631Z"
    },
    "papermill": {
     "duration": 0.252497,
     "end_time": "2022-11-25T18:27:07.916519",
     "exception": false,
     "start_time": "2022-11-25T18:27:07.664022",
     "status": "completed"
    },
    "tags": []
   },
   "outputs": [
    {
     "name": "stdout",
     "output_type": "stream",
     "text": [
      "   0    1    2    3    4         5    6     7    8    9    ...  990  991  992  \\\n",
      "0  0.0  0.0  0.0  0.0  0.0  0.000000  0.0  0.00  0.0  0.0  ...  0.0  0.0  0.0   \n",
      "1  0.0  0.0  0.0  0.0  0.0  0.000000  0.0  0.00  0.0  0.0  ...  0.0  0.0  0.0   \n",
      "2  0.0  0.0  0.0  0.0  0.0  0.148697  0.0  0.00  0.0  0.0  ...  0.0  0.0  0.0   \n",
      "3  0.0  0.0  0.0  0.0  0.0  0.000000  0.0  0.04  0.0  0.0  ...  0.0  0.0  0.0   \n",
      "4  0.0  0.0  0.0  0.0  0.0  0.000000  0.0  0.00  0.0  0.0  ...  0.0  0.0  0.0   \n",
      "\n",
      "        993  994  995  996  997  998  999  \n",
      "0  0.000000  0.0  0.0  0.0  0.0  0.0  0.0  \n",
      "1  0.000000  0.0  0.0  0.0  0.0  0.0  0.0  \n",
      "2  0.000000  0.0  0.0  0.0  0.0  0.0  0.0  \n",
      "3  0.155785  0.0  0.0  0.0  0.0  0.0  0.0  \n",
      "4  0.000000  0.0  0.0  0.0  0.0  0.0  0.0  \n",
      "\n",
      "[5 rows x 1000 columns]\n"
     ]
    }
   ],
   "source": [
    "# Converting the text data into vectors using TF-IDF\n",
    "from sklearn.feature_extraction.text import TfidfVectorizer  \n",
    "from sklearn.preprocessing import LabelEncoder\n",
    "# Generating 1000 features for the input for the model\n",
    "tfidfconverter = TfidfVectorizer(max_features=1000, stop_words=stopwords.words('english')) \n",
    "X = pd.DataFrame(tfidfconverter.fit_transform(finalframe['Text_Data']).toarray())\n",
    "print(X[:5])\n",
    "#X.columns = range(X.shape[1])\n",
    "labelencoder = LabelEncoder() #Converting the labels to numeric labels\n",
    "y = labelencoder.fit_transform(finalframe['Category'])"
   ]
  },
  {
   "cell_type": "code",
   "execution_count": 38,
   "id": "88a8074f",
   "metadata": {
    "execution": {
     "iopub.execute_input": "2022-11-25T18:27:07.965752Z",
     "iopub.status.busy": "2022-11-25T18:27:07.964813Z",
     "iopub.status.idle": "2022-11-25T18:27:07.976798Z",
     "shell.execute_reply": "2022-11-25T18:27:07.975900Z"
    },
    "papermill": {
     "duration": 0.038616,
     "end_time": "2022-11-25T18:27:07.979081",
     "exception": false,
     "start_time": "2022-11-25T18:27:07.940465",
     "status": "completed"
    },
    "tags": []
   },
   "outputs": [],
   "source": [
    "from sklearn.model_selection import train_test_split \n",
    "X_train, X_test, y_train, y_test = train_test_split(X, y, test_size=0.3, random_state=0)  "
   ]
  },
  {
   "cell_type": "markdown",
   "id": "ede3c2fc",
   "metadata": {
    "papermill": {
     "duration": 0.023619,
     "end_time": "2022-11-25T18:27:08.026028",
     "exception": false,
     "start_time": "2022-11-25T18:27:08.002409",
     "status": "completed"
    },
    "tags": []
   },
   "source": [
    "**Oversampling the data to get well balanced classes for model building**"
   ]
  },
  {
   "cell_type": "code",
   "execution_count": 39,
   "id": "252a5673",
   "metadata": {
    "execution": {
     "iopub.execute_input": "2022-11-25T18:27:08.076137Z",
     "iopub.status.busy": "2022-11-25T18:27:08.075425Z",
     "iopub.status.idle": "2022-11-25T18:27:08.502574Z",
     "shell.execute_reply": "2022-11-25T18:27:08.501470Z"
    },
    "papermill": {
     "duration": 0.454518,
     "end_time": "2022-11-25T18:27:08.505303",
     "exception": false,
     "start_time": "2022-11-25T18:27:08.050785",
     "status": "completed"
    },
    "tags": []
   },
   "outputs": [],
   "source": [
    "from imblearn.over_sampling import RandomOverSampler\n",
    "ros = RandomOverSampler(random_state=1)\n",
    "X_resampled, y_resampled = ros.fit_resample(X, y)"
   ]
  },
  {
   "cell_type": "code",
   "execution_count": 40,
   "id": "7273895e",
   "metadata": {
    "execution": {
     "iopub.execute_input": "2022-11-25T18:27:08.554451Z",
     "iopub.status.busy": "2022-11-25T18:27:08.554023Z",
     "iopub.status.idle": "2022-11-25T18:27:08.561407Z",
     "shell.execute_reply": "2022-11-25T18:27:08.559893Z"
    },
    "papermill": {
     "duration": 0.034943,
     "end_time": "2022-11-25T18:27:08.564063",
     "exception": false,
     "start_time": "2022-11-25T18:27:08.529120",
     "status": "completed"
    },
    "tags": []
   },
   "outputs": [
    {
     "name": "stdout",
     "output_type": "stream",
     "text": [
      "[[  0 409]\n",
      " [  1 409]\n",
      " [  2 409]\n",
      " [  3 409]]\n"
     ]
    }
   ],
   "source": [
    "import numpy as np\n",
    "unique, counts = np.unique(y_resampled, return_counts=True)\n",
    "print(np.asarray((unique, counts)).T)"
   ]
  },
  {
   "cell_type": "markdown",
   "id": "a65533e4",
   "metadata": {
    "papermill": {
     "duration": 0.022711,
     "end_time": "2022-11-25T18:27:08.610412",
     "exception": false,
     "start_time": "2022-11-25T18:27:08.587701",
     "status": "completed"
    },
    "tags": []
   },
   "source": [
    "**Oversampling has made all the classes equally balanced with 409 data points each**"
   ]
  },
  {
   "cell_type": "code",
   "execution_count": 41,
   "id": "b2588afa",
   "metadata": {
    "execution": {
     "iopub.execute_input": "2022-11-25T18:27:08.658984Z",
     "iopub.status.busy": "2022-11-25T18:27:08.658286Z",
     "iopub.status.idle": "2022-11-25T18:27:08.694688Z",
     "shell.execute_reply": "2022-11-25T18:27:08.693402Z"
    },
    "papermill": {
     "duration": 0.064134,
     "end_time": "2022-11-25T18:27:08.697579",
     "exception": false,
     "start_time": "2022-11-25T18:27:08.633445",
     "status": "completed"
    },
    "tags": []
   },
   "outputs": [],
   "source": [
    "from sklearn.model_selection import train_test_split \n",
    "X_train, X_test, y_train, y_test = train_test_split(X_resampled, y_resampled, test_size=0.2, random_state=0)"
   ]
  },
  {
   "cell_type": "markdown",
   "id": "7217714d",
   "metadata": {
    "papermill": {
     "duration": 0.022683,
     "end_time": "2022-11-25T18:27:08.743724",
     "exception": false,
     "start_time": "2022-11-25T18:27:08.721041",
     "status": "completed"
    },
    "tags": []
   },
   "source": [
    "**Building different models and comparing their performances**"
   ]
  },
  {
   "cell_type": "markdown",
   "id": "b78f5b82",
   "metadata": {
    "papermill": {
     "duration": 0.022752,
     "end_time": "2022-11-25T18:27:08.790290",
     "exception": false,
     "start_time": "2022-11-25T18:27:08.767538",
     "status": "completed"
    },
    "tags": []
   },
   "source": [
    "**Random Forest Classifier**"
   ]
  },
  {
   "cell_type": "code",
   "execution_count": 42,
   "id": "f20ab408",
   "metadata": {
    "execution": {
     "iopub.execute_input": "2022-11-25T18:27:08.838409Z",
     "iopub.status.busy": "2022-11-25T18:27:08.837981Z",
     "iopub.status.idle": "2022-11-25T18:27:15.327276Z",
     "shell.execute_reply": "2022-11-25T18:27:15.325968Z"
    },
    "papermill": {
     "duration": 6.516515,
     "end_time": "2022-11-25T18:27:15.330058",
     "exception": false,
     "start_time": "2022-11-25T18:27:08.813543",
     "status": "completed"
    },
    "tags": []
   },
   "outputs": [],
   "source": [
    "from sklearn.ensemble import RandomForestClassifier\n",
    "from sklearn import preprocessing\n",
    "classifier = RandomForestClassifier(n_estimators=1200, random_state=1)  #defining 1000 nodes \n",
    "rf = classifier.fit(X_train, y_train)  \n",
    "y_pred = classifier.predict(X_test)"
   ]
  },
  {
   "cell_type": "code",
   "execution_count": 43,
   "id": "ce479195",
   "metadata": {
    "execution": {
     "iopub.execute_input": "2022-11-25T18:27:15.378710Z",
     "iopub.status.busy": "2022-11-25T18:27:15.378290Z",
     "iopub.status.idle": "2022-11-25T18:27:15.701269Z",
     "shell.execute_reply": "2022-11-25T18:27:15.699933Z"
    },
    "papermill": {
     "duration": 0.351117,
     "end_time": "2022-11-25T18:27:15.704699",
     "exception": false,
     "start_time": "2022-11-25T18:27:15.353582",
     "status": "completed"
    },
    "tags": []
   },
   "outputs": [
    {
     "name": "stdout",
     "output_type": "stream",
     "text": [
      "Accuracy: 0.9390243902439024\n",
      "              precision    recall  f1-score   support\n",
      "\n",
      "    ProdChem       0.96      0.93      0.94        83\n",
      "   Economics       0.84      1.00      0.91        88\n",
      "    ShaleGas       1.00      1.00      1.00        80\n",
      "Enviromental       1.00      0.82      0.90        77\n",
      "\n",
      "    accuracy                           0.94       328\n",
      "   macro avg       0.95      0.94      0.94       328\n",
      "weighted avg       0.95      0.94      0.94       328\n",
      "\n",
      "Confusion matrix:\n",
      " [[77  6  0  0]\n",
      " [ 0 88  0  0]\n",
      " [ 0  0 80  0]\n",
      " [ 3 11  0 63]]\n"
     ]
    },
    {
     "data": {
      "image/png": "[encoded data removed]",
      "text/plain": [
       "<Figure size 432x288 with 2 Axes>"
      ]
     },
     "metadata": {
      "needs_background": "light"
     },
     "output_type": "display_data"
    }
   ],
   "source": [
    "from sklearn.metrics import classification_report, confusion_matrix, accuracy_score\n",
    "print('Accuracy: %s' % accuracy_score(y_test, y_pred))\n",
    "print(classification_report(y_test,y_pred,target_names=my_tags))  \n",
    "#print(confusion_matrix(y_test,y_pred)) \n",
    "\n",
    "conf_mat = confusion_matrix(y_true=y_test, y_pred=y_pred)\n",
    "print('Confusion matrix:\\n', conf_mat)\n",
    "\n",
    "labels = ['ProdChem','Economics','ShaleGas','Enviromental']\n",
    "fig = plt.figure()\n",
    "ax = fig.add_subplot(111)\n",
    "cax = ax.matshow(conf_mat, cmap=plt.cm.Blues)\n",
    "fig.colorbar(cax)\n",
    "ax.set_xticklabels([''] + labels)\n",
    "ax.set_yticklabels([''] + labels)\n",
    "plt.xlabel('Predicted')\n",
    "plt.ylabel('Expected')\n",
    "plt.show()"
   ]
  },
  {
   "cell_type": "markdown",
   "id": "26dc04cf",
   "metadata": {
    "papermill": {
     "duration": 0.023076,
     "end_time": "2022-11-25T18:27:15.762248",
     "exception": false,
     "start_time": "2022-11-25T18:27:15.739172",
     "status": "completed"
    },
    "tags": []
   },
   "source": [
    "**It can be seen that the random forest classifier gives an accuracy of around 94% and performs well for classification with good F1 scores. It is predicting almost the right classes for the test data with few false positives and negatives**"
   ]
  },
  {
   "cell_type": "markdown",
   "id": "e725e46c",
   "metadata": {
    "papermill": {
     "duration": 0.022945,
     "end_time": "2022-11-25T18:27:15.808559",
     "exception": false,
     "start_time": "2022-11-25T18:27:15.785614",
     "status": "completed"
    },
    "tags": []
   },
   "source": [
    "**Naive Bayes Classifier**"
   ]
  },
  {
   "cell_type": "markdown",
   "id": "cfa16b91",
   "metadata": {
    "papermill": {
     "duration": 0.02313,
     "end_time": "2022-11-25T18:27:15.855050",
     "exception": false,
     "start_time": "2022-11-25T18:27:15.831920",
     "status": "completed"
    },
    "tags": []
   },
   "source": [
    "NBC is based on describing counts among number of categories so it is used in text classification where the features are related to word counts or frequencies within the document to be classified."
   ]
  },
  {
   "cell_type": "code",
   "execution_count": 44,
   "id": "a0925256",
   "metadata": {
    "execution": {
     "iopub.execute_input": "2022-11-25T18:27:15.904146Z",
     "iopub.status.busy": "2022-11-25T18:27:15.903418Z",
     "iopub.status.idle": "2022-11-25T18:27:16.271309Z",
     "shell.execute_reply": "2022-11-25T18:27:16.270053Z"
    },
    "papermill": {
     "duration": 0.396151,
     "end_time": "2022-11-25T18:27:16.274536",
     "exception": false,
     "start_time": "2022-11-25T18:27:15.878385",
     "status": "completed"
    },
    "tags": []
   },
   "outputs": [
    {
     "name": "stdout",
     "output_type": "stream",
     "text": [
      "Accuracy: 0.850609756097561\n",
      "              precision    recall  f1-score   support\n",
      "\n",
      "    ProdChem       0.91      0.88      0.90        83\n",
      "   Economics       0.90      0.72      0.80        88\n",
      "    ShaleGas       1.00      0.99      0.99        80\n",
      "Enviromental       0.65      0.83      0.73        77\n",
      "\n",
      "    accuracy                           0.85       328\n",
      "   macro avg       0.86      0.85      0.85       328\n",
      "weighted avg       0.87      0.85      0.85       328\n",
      "\n",
      "Confusion matrix:\n",
      " [[73  0  0 10]\n",
      " [ 0 63  0 25]\n",
      " [ 0  1 79  0]\n",
      " [ 7  6  0 64]]\n"
     ]
    },
    {
     "data": {
      "image/png": "[encoded data removed]",
      "text/plain": [
       "<Figure size 432x288 with 2 Axes>"
      ]
     },
     "metadata": {
      "needs_background": "light"
     },
     "output_type": "display_data"
    }
   ],
   "source": [
    "from sklearn.naive_bayes import MultinomialNB\n",
    "clf = MultinomialNB().fit(X_train, y_train)\n",
    "\n",
    "y_pred = clf.predict(X_test)\n",
    "print('Accuracy: %s' % accuracy_score(y_pred, y_test))\n",
    "print(classification_report(y_test, y_pred,target_names=my_tags))\n",
    "\n",
    "conf_mat = confusion_matrix(y_true=y_test, y_pred=y_pred)\n",
    "print('Confusion matrix:\\n', conf_mat)\n",
    "\n",
    "labels = ['ProdChem','Economics','ShaleGas','Enviromental']\n",
    "fig = plt.figure()\n",
    "ax = fig.add_subplot(111)\n",
    "cax = ax.matshow(conf_mat, cmap=plt.cm.Blues)\n",
    "fig.colorbar(cax)\n",
    "ax.set_xticklabels([''] + labels)\n",
    "ax.set_yticklabels([''] + labels)\n",
    "plt.xlabel('Predicted')\n",
    "plt.ylabel('Expected')\n",
    "plt.show()"
   ]
  },
  {
   "cell_type": "markdown",
   "id": "c18eb15d",
   "metadata": {
    "papermill": {
     "duration": 0.023762,
     "end_time": "2022-11-25T18:27:16.335412",
     "exception": false,
     "start_time": "2022-11-25T18:27:16.311650",
     "status": "completed"
    },
    "tags": []
   },
   "source": [
    "Naive Bayes classifier gives an accuracy of around 85%. It provides less accuracy levels on test dataset comparing to Random Forest Classifier. "
   ]
  },
  {
   "cell_type": "markdown",
   "id": "fe5c2472",
   "metadata": {
    "papermill": {
     "duration": 0.023462,
     "end_time": "2022-11-25T18:27:16.382673",
     "exception": false,
     "start_time": "2022-11-25T18:27:16.359211",
     "status": "completed"
    },
    "tags": []
   },
   "source": [
    "**XGBoost Classifier**"
   ]
  },
  {
   "cell_type": "markdown",
   "id": "cfc88d5a",
   "metadata": {
    "papermill": {
     "duration": 0.023557,
     "end_time": "2022-11-25T18:27:16.429951",
     "exception": false,
     "start_time": "2022-11-25T18:27:16.406394",
     "status": "completed"
    },
    "tags": []
   },
   "source": [
    "Extreme Gradiant Boosting algorithm is an tree ensemble model which is optimized to predict quicker by utilizing available resources and takes care of over fitting."
   ]
  },
  {
   "cell_type": "code",
   "execution_count": 45,
   "id": "a5a1b41e",
   "metadata": {
    "execution": {
     "iopub.execute_input": "2022-11-25T18:27:16.480615Z",
     "iopub.status.busy": "2022-11-25T18:27:16.479849Z",
     "iopub.status.idle": "2022-11-25T18:27:25.014431Z",
     "shell.execute_reply": "2022-11-25T18:27:25.013207Z"
    },
    "papermill": {
     "duration": 8.563278,
     "end_time": "2022-11-25T18:27:25.017777",
     "exception": false,
     "start_time": "2022-11-25T18:27:16.454499",
     "status": "completed"
    },
    "tags": []
   },
   "outputs": [
    {
     "name": "stdout",
     "output_type": "stream",
     "text": [
      "Accuracy: 0.948170731707317\n",
      "              precision    recall  f1-score   support\n",
      "\n",
      "    ProdChem       0.96      0.93      0.94        83\n",
      "   Economics       0.86      1.00      0.93        88\n",
      "    ShaleGas       1.00      1.00      1.00        80\n",
      "Enviromental       1.00      0.86      0.92        77\n",
      "\n",
      "    accuracy                           0.95       328\n",
      "   macro avg       0.96      0.95      0.95       328\n",
      "weighted avg       0.95      0.95      0.95       328\n",
      "\n",
      "Confusion matrix:\n",
      " [[77  6  0  0]\n",
      " [ 0 88  0  0]\n",
      " [ 0  0 80  0]\n",
      " [ 3  8  0 66]]\n"
     ]
    },
    {
     "data": {
      "image/png": "[encoded data removed]",
      "text/plain": [
       "<Figure size 432x288 with 2 Axes>"
      ]
     },
     "metadata": {
      "needs_background": "light"
     },
     "output_type": "display_data"
    }
   ],
   "source": [
    "from xgboost import XGBClassifier\n",
    "from sklearn.metrics import accuracy_score\n",
    "xgb = XGBClassifier()\n",
    "xgb.fit(X_train, y_train)\n",
    "y_pred = xgb.predict(X_test)\n",
    "\n",
    "accuracy = accuracy_score(y_test, y_pred)\n",
    "print(\"Accuracy: %s\" % (accuracy))\n",
    "print(classification_report(y_test, y_pred,target_names=my_tags))\n",
    "\n",
    "conf_mat = confusion_matrix(y_true=y_test, y_pred=y_pred)\n",
    "print('Confusion matrix:\\n', conf_mat)\n",
    "\n",
    "labels = ['ProdChem','Economics','ShaleGas','Enviromental']\n",
    "fig = plt.figure()\n",
    "ax = fig.add_subplot(111)\n",
    "cax = ax.matshow(conf_mat, cmap=plt.cm.Blues)\n",
    "fig.colorbar(cax)\n",
    "ax.set_xticklabels([''] + labels)\n",
    "ax.set_yticklabels([''] + labels)\n",
    "plt.xlabel('Predicted')\n",
    "plt.ylabel('Expected')\n",
    "plt.show()"
   ]
  },
  {
   "cell_type": "markdown",
   "id": "1fb9d984",
   "metadata": {
    "papermill": {
     "duration": 0.024051,
     "end_time": "2022-11-25T18:27:25.081045",
     "exception": false,
     "start_time": "2022-11-25T18:27:25.056994",
     "status": "completed"
    },
    "tags": []
   },
   "source": [
    "XGBoost classifier gives an accuracy of around 95% and performs well for classification with good F1 scores. Prediction accuracy from this model is higher comparing to two previous ones. "
   ]
  },
  {
   "cell_type": "code",
   "execution_count": null,
   "id": "0307723b",
   "metadata": {
    "papermill": {
     "duration": 0.023761,
     "end_time": "2022-11-25T18:27:25.129080",
     "exception": false,
     "start_time": "2022-11-25T18:27:25.105319",
     "status": "completed"
    },
    "tags": []
   },
   "outputs": [],
   "source": []
  }
 ],
 "metadata": {
  "kernelspec": {
   "display_name": "Python 3",
   "language": "python",
   "name": "python3"
  },
  "language_info": {
   "codemirror_mode": {
    "name": "ipython",
    "version": 3
   },
   "file_extension": ".py",
   "mimetype": "text/x-python",
   "name": "python",
   "nbconvert_exporter": "python",
   "pygments_lexer": "ipython3",
   "version": "3.7.12"
  },
  "papermill": {
   "default_parameters": {},
   "duration": 188.232846,
   "end_time": "2022-11-25T18:27:26.279506",
   "environment_variables": {},
   "exception": null,
   "input_path": "__notebook__.ipynb",
   "output_path": "__notebook__.ipynb",
   "parameters": {},
   "start_time": "2022-11-25T18:24:18.046660",
   "version": "2.3.4"
  }
 },
 "nbformat": 4,
 "nbformat_minor": 5
}
